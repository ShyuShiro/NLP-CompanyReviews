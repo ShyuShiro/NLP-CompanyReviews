{
 "cells": [
  {
   "cell_type": "code",
   "execution_count": 21,
   "id": "78d3cc0d",
   "metadata": {},
   "outputs": [],
   "source": [
    "import requests\n",
    "from bs4 import BeautifulSoup\n",
    "import re"
   ]
  },
  {
   "cell_type": "markdown",
   "id": "af0f47b2",
   "metadata": {},
   "source": [
    "Lets get data request from the webpage and display the text"
   ]
  },
  {
   "cell_type": "code",
   "execution_count": 10,
   "id": "ccc7ac21",
   "metadata": {
    "scrolled": false
   },
   "outputs": [
    {
     "data": {
      "text/plain": [
       "'<!DOCTYPE html><html lang=\"en-US\"><head><meta charSet=\"UTF-8\"/><meta name=\"viewport\" content=\"width=device-width, initial-scale=1\"/><link rel=\"shortcut icon\" type=\"image/x-icon\" href=\"https://cdn.trustpilot.net/brand-assets/4.3.0/favicons/favicon.ico\"/><link rel=\"manifest\" href=\"/manifest.json\"/><meta name=\"application-name\" content=\"Trustpilot\"/><meta name=\"theme-color\" content=\"#1c1c1c\"/><link rel=\"apple-touch-icon\" sizes=\"180x180\" href=\"https://cdn.trustpilot.net/brand-assets/4.3.0/favicons/a'"
      ]
     },
     "execution_count": 10,
     "metadata": {},
     "output_type": "execute_result"
    }
   ],
   "source": [
    "r = requests.get(\"https://www.trustpilot.com/review/www.corsair.com\")\n",
    "r.text[:500]"
   ]
  },
  {
   "cell_type": "markdown",
   "id": "98b9d4c3",
   "metadata": {},
   "source": [
    "Text is a giant HTML soup and we're only interested in the reviews on the page\n",
    "- Need to find the div + class structure for reviews"
   ]
  },
  {
   "cell_type": "code",
   "execution_count": 31,
   "id": "4ad262b4",
   "metadata": {},
   "outputs": [],
   "source": [
    "soup = BeautifulSoup(r.text,\"html.parser\")\n",
    "reviews = soup.find_all(\"div\", {\"class\": \"styles_reviewCardInner__EwDq2\"})"
   ]
  },
  {
   "cell_type": "markdown",
   "id": "b737c471",
   "metadata": {},
   "source": [
    "Above I've used Chrome's Object Painter to discover the div container and its class name for reviews ... here's an example of how to get the review text"
   ]
  },
  {
   "cell_type": "code",
   "execution_count": 20,
   "id": "54077fd6",
   "metadata": {},
   "outputs": [
    {
     "data": {
      "text/plain": [
       "\"ETetka7 reviewsUS18 hours agoSolid hardwareI have been using their mousepads for years and been satisfied with their headphones. I am not a fan of RGB, so I haven't experienced any problems related to software. I recently got a Corsair PSU since my old one was very loud and inefficient, and it has been pretty good so far.Date of experience: April 10, 2024\""
      ]
     },
     "execution_count": 20,
     "metadata": {},
     "output_type": "execute_result"
    }
   ],
   "source": [
    "reviews[1].get_text()"
   ]
  },
  {
   "cell_type": "code",
   "execution_count": 156,
   "id": "b3ed8faa",
   "metadata": {},
   "outputs": [
    {
     "name": "stdout",
     "output_type": "stream",
     "text": [
      "ROrobert30 reviewsGB5 hours agoGoodVery strange seeing it getting 2star rating any time I've had issues they helped me super quick and always sent me out parts that needed if broken.tje core nodes can be a bit better but in general there are very good.Date of experience: May 03, 2024\n",
      "ETetka7 reviewsUS18 hours agoSolid hardwareI have been using their mousepads for years and been satisfied with their headphones. I am not a fan of RGB, so I haven't experienced any problems related to software. I recently got a Corsair PSU since my old one was very loud and inefficient, and it has been pretty good so far.Date of experience: April 10, 2024\n",
      "THThefrench33 reviewsAT6 days agoPerfect serviceI encountered an issue with my iCUE Hub, but the support team helped me in troubleshooting the problem. They promptly sent me a replacement hub, and after installing it, everything worked flawlessly. I'm highly satisfied with their service, it was not only nice but also incredibly helpful. This positive experience has certainly earned my trust, and I'll definitely be a returning customer in the future.Date of experience: May 07, 2024\n",
      "KMKevin Mørk41 reviewsDKUpdated 2 hours agoContacted support regarding warranty on…Contacted support regarding warranty on my keyboard. Barely 1 hour later I had already recieved and answer. Contacting support was smoothe sailing and the level of service was pleasantly suprising.I take back what I said. The issue was not resolved and I was just asked to wait for a month...Date of experience: May 04, 2024\n",
      "Dirpitz5 reviewsGBMay 1, 2024Cant give less than one starCant give less than one star, shame company makes great components let down by abysmal software which renders the hardware worthless. Customer service are clowns who can be given full diagnostics but still sit there like a child trying to get you to turn it off and on 50 times expecting different results even after you show them it's a fault in their software, avoid like the plague xDDate of experience: May 01, 2024\n",
      "S D1 reviewGBApr 29, 2024Terrible SoftwareAbsolute terrible software, frequently crashes or displays wrong colours. All updates seem to make the program worse or cause further issues I have to try and fix. Would not recommend to anyone! Only positive I have is the packaging for each item is nice.Date of experience: April 29, 2024\n",
      "Julia3 reviewsFIApr 24, 2024Horrible desktop application and poor battery lifeHorrible desktop application. Full of bugs and headset disconnecting constantly. After less than one year of use headset battery broke, got a new one and that headset broke as well in less than one year. Headset has always turned off randomly even in use and with full battery. Never buying your headsets anymore. Only positive thing is that they have a good microphone quality and they are comfortable on ears. Sadly the battery and connection have always been trash.Date of experience: April 24, 2024\n",
      "David Sales1 reviewAUUpdated Apr 28, 2024Warranty means $hit…I bought some a 32gb Corsair Vengeance ram chip for my sons laptop. After 3 months the Ram was causing the computer to get the BSOD. Since I had to wait for my son to bring down his computer from his mother's house in a different State, at the 6 months mark I pulled the Ram and re-installed the original Ram and the BSOD of disappeared. So I put in a request to have the Ram replaced, since I bought the brand new sealed Ram off an Ebay seller and not an approved stockist, Corsair will not honour the warranty. Stay away from Corsair products. This is the last Corsair product I will ever buy.Date of experience: April 12, 2024\n",
      "Martinius Ulberg4 reviewsNOApr 28, 2024Great design, low qualityProducts have great design, but terrible quality. Their mice rarely last even a year, and their other products don't last much longer.Garbage products sold at a premium price.Date of experience: April 28, 2024\n",
      "albie baggins29 reviewsGBFeb 11, 2024Awful company to deal with directly.Awful company to deal with directly.For your own good, if you buy any of their products go via a third party distributor. Do not ever engage with their site or them directly. They add extra fees, import charges, incorrect postage, everything to add friction to your order, and then their support are absolutely horrendous, foul mouthed, rude, unhelpful, plebs. Disgusting. Their tech might be alright, but for the love of god don't go to them directly. Let your distributor deal with these clowns if anything goes wrong, don't do it yourself.Date of experience: February 08, 2024Reply from CorsairFeb 21, 2024Hello,We are sorry to hear about any inconvenience that may have occurred with your recent online web order and the experience you had with our Support Team.Please provide us with more details about your order or any support ticket and we can review this matter further.\n",
      "SWStephen W3 reviewsUSFeb 4, 2024I am writing hoping this may save some…time and moneyI am writing hoping this may save some poor soul the agonizing experience it is to deal with Corsair and their customer service team...Its horrendous.  If an agent responds at all it will be a terse and unhelpful, uncaring response. Then, they don't respond at all. Currently they have both my money and the defective computer they were to replace.  Been two weeks, No reply's no help until I am forced to seek a charge back.  At one time they were the best and most caring. Now they practice deceptive web ordering and gross negligence with customer care. Inv C1163329 for Corsair Investigations.Date of experience: January 22, 2024\n",
      "Jeremy Young6 reviewsGBFeb 24, 2024Product quality is mixed. Support and customer service is dreadfulCorsair products are of mixed quality, their support however is beyond subpar.If you post on here or Reddit they will comment as if they will look in to your issue. Very quickly you will discover the apathy, ignorance and dismissiveness that so many have experienced.In a series of emails and messages exchanged with Corsair, where I clearly articulated a few technical questions the agent(s) and even team leader opt to ignore said questions and usually reply answering a question I never asked.To say this is frustrating is such an understatement, no less so when I’ve spent 4 figures on their products.Date of experience: February 22, 2024\n",
      "GEGeo3 reviewsBEJan 15, 2024Worst possible company and warrantyWorst possible company and warranty. The new headset cracked when putting on my head, the headset was brushing my face sides when it cracked. As per warranty, this is user damage for the crap they produce. Then there is their trash software that REFUSES to be uninstalled and uninstallers can't detect it! There will never ever be anything from Corsair in my PC!Date of experience: January 15, 2024\n",
      "FCFCorsair1 reviewCAJan 30, 2024Used to LOVE corsair...Used to LOVE corsair! All their products were amazing!!This time around, just straight up frustrated almost all thee time because the S**T don't F**King stay connected properly. How many times in the middle of writing code and my keyboard looses connection for 2 seconds. Even worse playing FPS games, and both keyboard and mouse loose connection for up to 5 seconds. GREATDate of experience: January 30, 2024\n",
      "XAXavier15 reviewsGBMar 29, 2024Had a power supply that blew 5 years…Had a power supply that blew 5 years into a 10 year guarantee. RMA process was smooth and non accusing. It was nice to have that for a change. All handled within a reasonable time frame and questions answered. Which does not seem to be the standard any more these days sadly. I would have preferred that I was warned my retail packaging would not be returned with the replacement if I sent it in however.Date of experience: March 08, 2024\n",
      "TST S2 reviewsGBUpdated Apr 3, 2024Rushed into a March Spring offerUK Amazon----- site ------Corsair for MP600 PRO NH 2TB ssdWhen double checking I discovered that I would not receive it till April 27. Still no indication of any movement-ie shipped from the company or Amazon. Amazon did not seem to know where from or when. Maybe this is a sign of the times.Updated expected18 aprilDate of experience: March 24, 2024\n",
      "AL CHARLES8 reviewsGBOct 2, 2023I hate leaving bad reviewsI hate leaving bad reviews, it can also be the customer thats being awkward too. However Corsair support has become a black hole. telephone messages, emails, online chat, you enter a message and its gone.. dissappeared in an abyss of nothing.I have tried to get Dominator memory repaired, its sold as having a lifetime warrenty. but no replies from Corsair. My advice to anyone who is concidering a purchase of Corsair items, beware. Quality is not only in the look and hype of an item, but what happens when it fails.Date of experience: October 02, 2023\n",
      "Ariel Wood1 reviewUSJan 24, 2024SCREW CORSAIRDo not buy from these stupid people. Their documentation is vague and unhelpful and their customer service in non existent. I bought a Pro Elite build kit, and the qr code for the manual didn't even work so I had to hunt down several videos on how to put the damn thing together. The build guide on their site isn't thorough enough and glossed over many steps or just didn't even tell me what to do. Then when I finally got the damn thing to work, it turns out the gpu they sent doesn't even work. And I can't even get any help with it because they don't even accept calls. SCREW these people.Date of experience: January 23, 2024\n",
      "ABAB18 reviewsGBMar 7, 2024Very disappointed with replacement I have fans-very good, Keyboard -very good.But recently I have bought PSU RM850e with 7 years warranty.Unfortunately it failed after only 8 months.The Corsair whas good for quick replacement,a bit rocky dispach with UPS(their tracking system never recorded any movement,froms drop off to delivery).Replacement arrived quickly.The same model but refurbished not brand new!?What is nothing wrong with refurbished but automatically my long 7 years warranty (that was only reason why I choose so expensive PSU in first place-probably like most customers)Dropped to only 1 year warranty.I would never buy this product with 1 year warranty.Thats why only 3 stars.It should be brand new with full warranty or offer extended warranty-to fit warranty of original product.Very disappointed 😞Date of experience: March 07, 2024Reply from CorsairMar 11, 2024Hello,We apologize if there was any confusion with our warranty replacement processes. Whether the replacement unit is new or refurbished, the warranty period does not restart. The replacement unit will continue with the remaining period of the original warranty. Additional details about our warranty can be found here: https://help.corsair.com/hc/en-us/articles/360033067832-Customer-Service-Corsair-Limited-Warranty \n",
      "AEA. Eeg13 reviewsNODec 19, 2023Dont trust CorsairNot telling customers that there are known faults on their high end products. Corsair is a scam from beginning to end. Please dont buy any of their products  as they mislead all customers in their advertising. Terrible customer support.Date of experience: December 19, 2023\n"
     ]
    }
   ],
   "source": [
    "for i in reviews:\n",
    "    print(i.get_text())"
   ]
  },
  {
   "cell_type": "markdown",
   "id": "149114fe",
   "metadata": {},
   "source": [
    "Need to create a function to gather the following from the review:\n",
    "- The date of the review (For timeline chart purposes)\n",
    "- Body of the review (Text not including the name or location)\n",
    "> Subsequently use NLP filter the text for a word cloud graphic\n",
    "- Location of the Reviewer (Ex: US vs AT vs GB)\n",
    "> Subsequently need to discipher these 2 letter codes because \"AT\" is Austria and \"GB\" is Great Britain"
   ]
  },
  {
   "cell_type": "code",
   "execution_count": 87,
   "id": "cc0462a3",
   "metadata": {},
   "outputs": [
    {
     "name": "stdout",
     "output_type": "stream",
     "text": [
      "May 03, 2024\n",
      "April 10, 2024\n",
      "May 07, 2024\n",
      "May 04, 2024\n",
      "May 01, 2024\n",
      "April 29, 2024\n",
      "April 24, 2024\n",
      "April 12, 2024\n",
      "April 28, 2024\n",
      "February 08, 2024Reply from CorsairFeb 21, 2024Hello,We are sorry to hear about any inconvenience that may have occurred with your recent online web order and the experience you had with our Support Team.Please provide us with more details about your order or any support ticket and we can review this matter further.\n",
      "January 22, 2024\n",
      "February 22, 2024\n",
      "January 15, 2024\n",
      "January 30, 2024\n",
      "March 08, 2024\n",
      "March 24, 2024\n",
      "October 02, 2023\n",
      "January 23, 2024\n",
      "March 07, 2024Reply from CorsairMar 11, 2024Hello,We apologize if there was any confusion with our warranty replacement processes. Whether the replacement unit is new or refurbished, the warranty period does not restart. The replacement unit will continue with the remaining period of the original warranty. Additional details about our warranty can be found here: https://help.corsair.com/hc/en-us/articles/360033067832-Customer-Service-Corsair-Limited-Warranty \n",
      "December 19, 2023\n"
     ]
    }
   ],
   "source": [
    "def find_date(txt):\n",
    "    '''\n",
    "    Function to find the date -- Use Date of Experience\n",
    "    '''\n",
    "    start = re.search(\"Date of experience:\",txt).span()[1]\n",
    "    return txt[start+1:]\n",
    "\n",
    "for i in reviews: #Test\n",
    "    print(find_date(i.get_text()))"
   ]
  },
  {
   "cell_type": "markdown",
   "id": "bbd89515",
   "metadata": {},
   "source": [
    "This kind of convenient -- Replies from Corsair would appear after the \"Date of experience\" text. Lets extract it with a function as well"
   ]
  },
  {
   "cell_type": "code",
   "execution_count": 149,
   "id": "095a2a00",
   "metadata": {},
   "outputs": [
    {
     "name": "stdout",
     "output_type": "stream",
     "text": [
      "No Reply\n",
      "No Reply\n",
      "No Reply\n",
      "No Reply\n",
      "No Reply\n",
      "No Reply\n",
      "No Reply\n",
      "No Reply\n",
      "No Reply\n",
      "Hello,We are sorry to hear about any inconvenience that may have occurred with your recent online web order and the experience you had with our Support Team.Please provide us with more details about your order or any support ticket and we can review this matter further.\n",
      "No Reply\n",
      "No Reply\n",
      "No Reply\n",
      "No Reply\n",
      "No Reply\n",
      "No Reply\n",
      "No Reply\n",
      "No Reply\n",
      "Hello,We apologize if there was any confusion with our warranty replacement processes. Whether the replacement unit is new or refurbished, the warranty period does not restart. The replacement unit will continue with the remaining period of the original warranty. Additional details about our warranty can be found here: https://help.corsair.com/hc/en-us/articles/360033067832-Customer-Service-Corsair-Limited-Warranty \n",
      "No Reply\n"
     ]
    }
   ],
   "source": [
    "def find_reply(txt):\n",
    "    '''\n",
    "    Function to find replies if there are any from a representative\n",
    "    '''\n",
    "    search = re.finditer(r\"\\d{1}, \\d{4}\",txt)\n",
    "    idxs = []\n",
    "    for i in search:\n",
    "        idxs.append(i.span())\n",
    "        #First span should be Date of Review\n",
    "        #Second span should be Date of Experience ()\n",
    "        #Last span should be Date of Reply\n",
    "    if len(idxs)<=1:\n",
    "        return \"No Reply\"\n",
    "    else:\n",
    "        reply = txt[idxs[-1][1]:]\n",
    "        if reply==\"\": #Sometimes it's blank \n",
    "            return \"No Reply\"\n",
    "        else:\n",
    "            return reply  #Find the last span and get the text after it\n",
    "\n",
    "for i in reviews: #Test\n",
    "    print(find_reply(i.get_text()))"
   ]
  },
  {
   "cell_type": "code",
   "execution_count": 151,
   "id": "8362fb12",
   "metadata": {},
   "outputs": [
    {
     "name": "stdout",
     "output_type": "stream",
     "text": [
      "GB\n",
      "US\n",
      "AT\n",
      "DK\n",
      "GB\n",
      "BA\n",
      "FI\n",
      "UU\n",
      "NO\n",
      "GB\n",
      "US\n",
      "GB\n",
      "BE\n",
      "AJ\n",
      "GB\n",
      "GB\n",
      "GB\n",
      "SJ\n",
      "GB\n",
      "NO\n"
     ]
    }
   ],
   "source": [
    " def find_geo(txt):\n",
    "    '''\n",
    "    Find geography tag for the review\n",
    "    '''\n",
    "    start = re.search(\"review\",txt).span()[1] #Not plural because 1 review vs 10 review**s**\n",
    "    return txt[start+1:start+3]\n",
    "\n",
    "for i in reviews: #Test\n",
    "    print(find_geo(i.get_text()))"
   ]
  },
  {
   "cell_type": "code",
   "execution_count": 177,
   "id": "237e7294",
   "metadata": {},
   "outputs": [
    {
     "name": "stdout",
     "output_type": "stream",
     "text": [
      "GoodVery strange seeing it getting 2star rating any time I've had issues they helped me super quick and always sent me out parts that needed if broken.tje core nodes can be a bit better but in general there are very good.\n"
     ]
    }
   ],
   "source": [
    "def find_body(txt):\n",
    "    '''\n",
    "    Function to find body text\n",
    "    '''\n",
    "    search = re.finditer(r\"\\d{1}, \\d{4}\",txt)\n",
    "    end = re.search(\"Date of experience:\",txt).span()[0]\n",
    "    idxs = [i.span() for i in search]\n",
    "    #Find the text between the review date and date of experience\n",
    "    try: #The reviews which are written recently say \"3 hours ago\"\n",
    "        #find the \"ago\" text\n",
    "        start = re.search(\" ago\",txt).span()[1]\n",
    "        return txt[start:end]\n",
    "    except:\n",
    "        return txt[idxs[0][1]:end]\n",
    "    \n",
    "for i in reviews: #Test\n",
    "    print(find_body(i.get_text()))\n",
    "    break #dont show all of them in this case ... too much text block"
   ]
  }
 ],
 "metadata": {
  "kernelspec": {
   "display_name": "Python 3 (ipykernel)",
   "language": "python",
   "name": "python3"
  },
  "language_info": {
   "codemirror_mode": {
    "name": "ipython",
    "version": 3
   },
   "file_extension": ".py",
   "mimetype": "text/x-python",
   "name": "python",
   "nbconvert_exporter": "python",
   "pygments_lexer": "ipython3",
   "version": "3.8.5"
  }
 },
 "nbformat": 4,
 "nbformat_minor": 5
}
